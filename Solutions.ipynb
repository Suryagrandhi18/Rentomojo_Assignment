{
 "cells": [
  {
   "cell_type": "code",
   "execution_count": 3,
   "source": [
    "import pandas as pd"
   ],
   "outputs": [],
   "metadata": {}
  },
  {
   "cell_type": "markdown",
   "source": [
    "# **Making Given Dataset as an data frame and analysing answers.**"
   ],
   "metadata": {}
  },
  {
   "cell_type": "code",
   "execution_count": 4,
   "source": [
    "df = pd.read_csv(\"movie_dataset.csv\")  "
   ],
   "outputs": [],
   "metadata": {}
  },
  {
   "cell_type": "markdown",
   "source": [
    "## **1. Which is the movie(s) with the smallest runtime? Which is the movie(s) with the highest runtime?**"
   ],
   "metadata": {}
  },
  {
   "cell_type": "code",
   "execution_count": 8,
   "source": [
    "# Movie with Smallest Runtime\r\n",
    "# Getting highest and lowest\r\n",
    "highest = df[\"runtime\"].max()\r\n",
    "lowest = df[\"runtime\"].min()\r\n",
    "\r\n",
    "# Creating new df by condtion to take their names \r\n",
    "highest_df = df.loc[df[\"runtime\"]==highest]\r\n",
    "lowest_df = df.loc[df[\"runtime\"]==lowest]\r\n",
    "\r\n",
    "# Getting List of names of movies\r\n",
    "highest_names = highest_df[\"title\"].tolist()\r\n",
    "lowest_names = lowest_df[\"title\"].tolist() \r\n",
    "\r\n",
    "# Printing names of movies\r\n",
    "print(\"Movie(s) with highest runtime: \",*highest_names,sep=\" \")\r\n",
    "print(\"Movie(s) with lowest runtime:\",end=\" \")\r\n",
    "print(*lowest_names,sep=\" ,\")\r\n",
    "\r\n"
   ],
   "outputs": [
    {
     "output_type": "stream",
     "name": "stdout",
     "text": [
      "Movie(s) with highest runtime:  Carlos\n",
      "Movie(s) with lowest runtime: The Tooth Fairy ,Blood Done Sign My Name ,Should've Been Romeo ,How to Fall in Love ,Fort McCoy ,Sardaarji ,Sharkskin ,Hum To Mohabbat Karega ,N-Secure ,Dil Jo Bhi Kahey... ,The Salon ,Below Zero ,Bleeding Hearts ,Sex With Strangers ,The Vatican Exorcisms ,Karachi se Lahore ,The Horror Network Vol. 1 ,Harrison Montgomery ,Water & Power ,Light from the Darkroom ,America Is Still the Place ,Alleluia! The Devil's Carnival ,Straight Out of Brooklyn ,Diamond Ruff ,Mutual Friends ,Rise of the Entrepreneur: The Search for a Better Way ,Gory Gory Hallelujah ,Love in the Time of Monsters ,The Big Swap ,Fighting Tommy Riley ,Death Calls ,UnDivided ,The Frozen ,Little Big Top ,Dude Where's My Dog?\n"
     ]
    }
   ],
   "metadata": {}
  },
  {
   "cell_type": "markdown",
   "source": [
    "## **2.Take the top 5 production houses (by budget) and list their top 5 most popular movies, their revenue and vote_average**"
   ],
   "metadata": {}
  },
  {
   "cell_type": "code",
   "execution_count": 9,
   "source": [
    "# Taking rows which have value \r\n",
    "budget_df = df.loc[~df[\"budget\"].isnull()]\r\n",
    "highest_budget_df = budget_df.nlargest(5, ['budget']) \r\n",
    "prod_companies = highest_budget_df[\"production_companies\"].tolist()\r\n",
    "\r\n",
    "production_companies =[]\r\n",
    "names_companies = []\r\n",
    "\r\n",
    "import json\r\n",
    "prod_companies = [json.loads(x) for x in prod_companies]\r\n",
    "for i in prod_companies:\r\n",
    "    for j in i:\r\n",
    "       if j not in production_companies:\r\n",
    "           production_companies.append(j)\r\n",
    "           names_companies.append(j[\"name\"])\r\n",
    "\r\n",
    "           \r\n",
    "print(production_companies)\r\n",
    "print(\"Names of companies :\",end=\" \")\r\n",
    "print(*names_companies,sep=\" ,\")\r\n",
    "\r\n"
   ],
   "outputs": [
    {
     "output_type": "stream",
     "name": "stdout",
     "text": [
      "[{'name': 'Walt Disney Pictures', 'id': 2}, {'name': 'Jerry Bruckheimer Films', 'id': 130}, {'name': 'Moving Picture Company (MPC)', 'id': 20478}, {'name': 'Second Mate Productions', 'id': 19936}, {'name': 'Marvel Studios', 'id': 420}, {'name': 'Prime Focus', 'id': 15357}, {'name': 'Revolution Sun Studios', 'id': 76043}, {'name': 'DC Comics', 'id': 429}, {'name': 'Legendary Pictures', 'id': 923}, {'name': 'Warner Bros.', 'id': 6194}, {'name': 'Bad Hat Harry Productions', 'id': 9168}]\n",
      "Names of companies : Walt Disney Pictures ,Jerry Bruckheimer Films ,Moving Picture Company (MPC) ,Second Mate Productions ,Marvel Studios ,Prime Focus ,Revolution Sun Studios ,DC Comics ,Legendary Pictures ,Warner Bros. ,Bad Hat Harry Productions\n"
     ]
    }
   ],
   "metadata": {}
  },
  {
   "cell_type": "markdown",
   "source": [
    "## **3. List the production house for every year from 2000-2016 which has released the most number of movies in that year**"
   ],
   "metadata": {}
  },
  {
   "cell_type": "code",
   "execution_count": 5,
   "source": [
    "import json\r\n",
    "import numpy as np\r\n",
    "\r\n",
    "production_companie = [json.loads(x) for x in df[\"production_companies\"] if type(x)==str ]\r\n",
    "production_companies =[]\r\n",
    "for i in production_companie:\r\n",
    "    for j in i:\r\n",
    "        if j[\"name\"] not in production_companies:\r\n",
    "            production_companies.append(j[\"name\"])\r\n",
    "year_li = [x for x in range(2000,2017)]\r\n",
    "releases_in_year = [0] * 17 \r\n",
    "production = [\"\"] * 17 \r\n",
    "\r\n",
    "\r\n",
    "for i in production_companies:\r\n",
    "    new = df.loc[df[\"production_companies\"].str.contains(i)]\r\n",
    "    new['year'] = pd.DatetimeIndex(new['release_date']).year\r\n",
    "    dr = [16] * 0\r\n",
    "    dp = [16] * None\r\n",
    "    for j in new['year']:\r\n",
    "        index = year_li.index(i)\r\n",
    "        dr[index] = dr[index] + 1\r\n",
    "        dp[index] = i\r\n",
    "    for c,d in zip(releases_in_year,dr):\r\n",
    "        if(c<d):\r\n",
    "            ind = releases_in_year.index(c)\r\n",
    "            releases_in_year[ind] = d\r\n",
    "            production = dp[ind]\r\n",
    "\r\n",
    "print(releases_in_year)\r\n",
    "print(production)\r\n",
    "       \r\n",
    "        \r\n",
    "\r\n",
    "\r\n"
   ],
   "outputs": [
    {
     "output_type": "error",
     "ename": "TypeError",
     "evalue": "tuple indices must be integers or slices, not str",
     "traceback": [
      "\u001b[1;31m---------------------------------------------------------------------------\u001b[0m",
      "\u001b[1;31mTypeError\u001b[0m                                 Traceback (most recent call last)",
      "\u001b[1;32m<ipython-input-5-611a3b6d7eee>\u001b[0m in \u001b[0;36m<module>\u001b[1;34m\u001b[0m\n\u001b[0;32m     16\u001b[0m     \u001b[1;31m# new = df.loc[df[\"production_companies\"].str.contains(i)]\u001b[0m\u001b[1;33m\u001b[0m\u001b[1;33m\u001b[0m\u001b[1;33m\u001b[0m\u001b[0m\n\u001b[0;32m     17\u001b[0m     \u001b[0mnew\u001b[0m \u001b[1;33m=\u001b[0m \u001b[0mnp\u001b[0m\u001b[1;33m.\u001b[0m\u001b[0mwhere\u001b[0m\u001b[1;33m(\u001b[0m\u001b[0mdf\u001b[0m\u001b[1;33m[\u001b[0m\u001b[1;34m\"production_companies\"\u001b[0m\u001b[1;33m]\u001b[0m\u001b[1;33m.\u001b[0m\u001b[0mstr\u001b[0m\u001b[1;33m.\u001b[0m\u001b[0mcontains\u001b[0m\u001b[1;33m(\u001b[0m\u001b[0mi\u001b[0m\u001b[1;33m)\u001b[0m\u001b[1;33m)\u001b[0m\u001b[1;33m\u001b[0m\u001b[1;33m\u001b[0m\u001b[0m\n\u001b[1;32m---> 18\u001b[1;33m     \u001b[0mnew\u001b[0m\u001b[1;33m[\u001b[0m\u001b[1;34m'year'\u001b[0m\u001b[1;33m]\u001b[0m \u001b[1;33m=\u001b[0m \u001b[0mpd\u001b[0m\u001b[1;33m.\u001b[0m\u001b[0mDatetimeIndex\u001b[0m\u001b[1;33m(\u001b[0m\u001b[0mnew\u001b[0m\u001b[1;33m[\u001b[0m\u001b[1;34m'release_date'\u001b[0m\u001b[1;33m]\u001b[0m\u001b[1;33m)\u001b[0m\u001b[1;33m.\u001b[0m\u001b[0myear\u001b[0m\u001b[1;33m\u001b[0m\u001b[1;33m\u001b[0m\u001b[0m\n\u001b[0m\u001b[0;32m     19\u001b[0m     \u001b[0mdr\u001b[0m \u001b[1;33m=\u001b[0m \u001b[1;33m[\u001b[0m\u001b[1;36m16\u001b[0m\u001b[1;33m]\u001b[0m \u001b[1;33m*\u001b[0m \u001b[1;36m0\u001b[0m\u001b[1;33m\u001b[0m\u001b[1;33m\u001b[0m\u001b[0m\n\u001b[0;32m     20\u001b[0m     \u001b[0mdp\u001b[0m \u001b[1;33m=\u001b[0m \u001b[1;33m[\u001b[0m\u001b[1;36m16\u001b[0m\u001b[1;33m]\u001b[0m \u001b[1;33m*\u001b[0m \u001b[1;32mNone\u001b[0m\u001b[1;33m\u001b[0m\u001b[1;33m\u001b[0m\u001b[0m\n",
      "\u001b[1;31mTypeError\u001b[0m: tuple indices must be integers or slices, not str"
     ]
    }
   ],
   "metadata": {}
  },
  {
   "cell_type": "code",
   "execution_count": null,
   "source": [],
   "outputs": [],
   "metadata": {}
  }
 ],
 "metadata": {
  "orig_nbformat": 4,
  "language_info": {
   "name": "python",
   "version": "3.9.5",
   "mimetype": "text/x-python",
   "codemirror_mode": {
    "name": "ipython",
    "version": 3
   },
   "pygments_lexer": "ipython3",
   "nbconvert_exporter": "python",
   "file_extension": ".py"
  },
  "kernelspec": {
   "name": "python3",
   "display_name": "Python 3.9.5 64-bit"
  },
  "interpreter": {
   "hash": "e2a7c3d20469dda411fd3211f02092a920078d1ca97c72d3dc7928b841d3a44a"
  }
 },
 "nbformat": 4,
 "nbformat_minor": 2
}